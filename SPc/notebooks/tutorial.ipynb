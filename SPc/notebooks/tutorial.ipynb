{
 "cells": [
  {
   "cell_type": "code",
   "execution_count": null,
   "metadata": {},
   "outputs": [],
   "source": [
    "import sys\n",
    "sys.path.append('../src/')"
   ]
  },
  {
   "cell_type": "markdown",
   "metadata": {},
   "source": [
    "### **Process flight logs**"
   ]
  },
  {
   "cell_type": "code",
   "execution_count": null,
   "metadata": {},
   "outputs": [],
   "source": [
    "from process_flightlog import process_flightlog\n",
    "\n",
    "# -- * Define input and output file locations * --\n",
    "inputfile_loc = \"../data/raw/flightlog/sample.log.gpx\" #define input file location\n",
    "output_folder_loc = \"../data/processed/\" #define output folder location\n",
    "# -----------------------------------------------------------------------------\n",
    "\n",
    "process_flightlog(inputfile_loc, output_folder_loc)"
   ]
  },
  {
   "cell_type": "markdown",
   "metadata": {},
   "source": [
    "### **Process ublox receiver data**"
   ]
  },
  {
   "cell_type": "code",
   "execution_count": null,
   "metadata": {},
   "outputs": [],
   "source": [
    "from process_ublox_data import process_ublox_data\n",
    "\n",
    "# -- * Define input and output file locations * --\n",
    "inputfile_loc = \"../data/raw/ublox/sample.ubx\" #define input file location\n",
    "date = \"2021-04-27\" #define date of the flight\n",
    "output_folder_loc = \"../data/processed/\" #define output folder location\n",
    "# -----------------------------------------------------------------------------\n",
    "process_ublox_data(inputfile_loc, date, output_folder_loc)"
   ]
  },
  {
   "cell_type": "markdown",
   "metadata": {},
   "source": [
    "### **Specular Point (SP) calcculation**"
   ]
  },
  {
   "cell_type": "code",
   "execution_count": null,
   "metadata": {},
   "outputs": [],
   "source": [
    "# <input_gpx_file_location> <input_ubx_file_location> <output_folder_location> \n",
    "from calculate_SP import calculate_SP\n",
    "\n",
    "# -- * Define input and output file locations * --\n",
    "flight_file_location = \"../data/processed/sample_gpx.csv\" #define processed flight file location\n",
    "ubx_file_location = \"../data/processed/sample_ublox.csv\" #define processed ubx file location\n",
    "out_dir = \"../results/\" # define output folder location\n",
    "# -----------------------------------------------------\n",
    "\n",
    "calculate_SP(flight_file_location, ubx_file_location, out_dir)"
   ]
  },
  {
   "cell_type": "markdown",
   "metadata": {},
   "source": [
    "### **Generate KML of Specular points and Fresnel Zone**"
   ]
  },
  {
   "cell_type": "code",
   "execution_count": null,
   "metadata": {},
   "outputs": [],
   "source": [
    "from calculate_FZone_KML import calculate_FZone_KML\n",
    "\n",
    "# -- * Define input and output file locations * --\n",
    "SP_file = \"../results/sample_SP.csv\"\n",
    "PRN = \"GP12\" # define satellite PRN\n",
    "band = \"L2\" # define signal band\n",
    "out_dir = \"../results/\" # define output folder location\n",
    "# -----------------------------------------------------\n",
    "\n",
    "calculate_FZone_KML(SP_file, PRN, band, out_dir)"
   ]
  },
  {
   "cell_type": "markdown",
   "metadata": {},
   "source": [
    "### **Alternative Commands to run on CMD**"
   ]
  },
  {
   "cell_type": "code",
   "execution_count": null,
   "metadata": {},
   "outputs": [],
   "source": [
    "#Process the flight log file\n",
    "# Usage: python process_flightlog.py <input_gpx_file_location> <output_processed_folder_location>\n",
    "!python ../src/process_flightlog.py ../data/raw/flightlog/sample.log.gpx ../data/processed/"
   ]
  },
  {
   "cell_type": "code",
   "execution_count": null,
   "metadata": {},
   "outputs": [],
   "source": [
    "#Process the ublox data file\n",
    "# usage: python process_ublox_data.py <input_ubx_file_location> <date> <output_processed_folder_location>\n",
    "!python ../src/process_ublox_data.py ../data/raw/ublox/sample.ubx \"2021-04-27\" ../data/processed/"
   ]
  },
  {
   "cell_type": "code",
   "execution_count": null,
   "metadata": {},
   "outputs": [],
   "source": [
    "#Calculate the Specular Points\n",
    "# usage: python calculate_SP.py <input_gpx_file_location> <input_ubx_file_location> <output_folder_location>\n",
    "!python ../src/calculate_SP.py ../data/processed/sample_gpx.h5 ../data/processed/sample_ublox.h5 ../results/"
   ]
  },
  {
   "cell_type": "code",
   "execution_count": null,
   "metadata": {},
   "outputs": [],
   "source": [
    "#Calculate the FZone KML\n",
    "# usage python calculate_FZone_KML.py <input processed csv location with specular points> <satellite name> <band> <output_folder_location>\n",
    "!python ../src/calculate_FZone_KML.py ../results/sample_SP.h5 \"GP02\" \"L1\" ../results/"
   ]
  }
 ],
 "metadata": {
  "kernelspec": {
   "display_name": "SPc",
   "language": "python",
   "name": "python3"
  },
  "language_info": {
   "codemirror_mode": {
    "name": "ipython",
    "version": 3
   },
   "file_extension": ".py",
   "mimetype": "text/x-python",
   "name": "python",
   "nbconvert_exporter": "python",
   "pygments_lexer": "ipython3",
   "version": "3.10.14"
  }
 },
 "nbformat": 4,
 "nbformat_minor": 2
}
